{
 "cells": [
  {
   "cell_type": "code",
   "execution_count": 25,
   "metadata": {
    "collapsed": false
   },
   "outputs": [],
   "source": [
    "import numpy as np\n",
    "import pandas as pd\n",
    "from pandas import Series,DataFrame\n",
    "import matplotlib.pyplot as plt\n",
    "import seaborn as sns\n",
    "sns.set_style('whitegrid')\n",
    "%matplotlib inline \n",
    "from sklearn.datasets import load_boston\n",
    "Event_df = pd.read_csv('logs1516.csv')\n",
    "Event_df.sort_values(by=[\"Time\"], ascending=True)\n",
    "M_df = pd.read_csv('M_results1516.csv')\n",
    "S_df = pd.read_csv('S_results1516.csv')\n",
    "#平均点\n",
    "Ave_score = pd.merge(M_df,S_df,on=\"Full name\")\n",
    "Ave_score[\"Ave_score\"] = Ave_score.apply(lambda x: (x[\"M_score\"] + x [\"S_score\"] )/2, axis=1)\n",
    "#Ave_score\n",
    "#スコアと結合\n",
    "Event_df_merge = pd.merge(Event_df,Ave_score,on=\"Full name\")\n",
    "Event_Score = Event_df_merge.drop([\"M_score\",\"S_score\"], axis=1)\n"
   ]
  },
  {
   "cell_type": "code",
   "execution_count": 28,
   "metadata": {
    "collapsed": false
   },
   "outputs": [],
   "source": [
    "HQ = Event_Score[(Event_Score[\"Event name\"].str.contains(\"Added\"))|(Event_Score[\"Event name\"].str.contains(\"Updated\"))]\n",
    "#HQ\n",
    "\n",
    "#writer = pd.ExcelWriter('HQ.xlsx')\n",
    "#HQ.to_excel(writer,'Sheet1')\n",
    "#writer.save()\n",
    "\n",
    "#HQ.pivot_table(values = ['Event name'], index = ['Full name'], columns = ['Event context'],aggfunc = 'count', fill_value = 0)"
   ]
  },
  {
   "cell_type": "code",
   "execution_count": null,
   "metadata": {
    "collapsed": true
   },
   "outputs": [],
   "source": [
    "sns.pairplot(HQ, kind = \"reg\", vars = [\"R_clicks\", \"L_clicks\", \"S_clicks\",\"Ave_score\"])"
   ]
  }
 ],
 "metadata": {
  "kernelspec": {
   "display_name": "Python 3",
   "language": "python",
   "name": "python3"
  },
  "language_info": {
   "codemirror_mode": {
    "name": "ipython",
    "version": 3
   },
   "file_extension": ".py",
   "mimetype": "text/x-python",
   "name": "python",
   "nbconvert_exporter": "python",
   "pygments_lexer": "ipython3",
   "version": "3.5.3"
  }
 },
 "nbformat": 4,
 "nbformat_minor": 0
}
