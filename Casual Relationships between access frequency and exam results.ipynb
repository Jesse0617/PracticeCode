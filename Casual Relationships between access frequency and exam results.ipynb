{
 "cells": [
  {
   "cell_type": "code",
   "execution_count": 2,
   "metadata": {
    "collapsed": false
   },
   "outputs": [],
   "source": [
    "import numpy as np\n",
    "import pandas as pd\n",
    "from pandas import Series,DataFrame\n",
    "import matplotlib.pyplot as plt\n",
    "%matplotlib inline \n",
    "Event_df = pd.read_csv('logs1516.csv')\n",
    "Event_df.sort_values(by=[\"Time\"], ascending=True)\n",
    "M_df = pd.read_csv('M_results1516.csv')\n",
    "S_df = pd.read_csv('S_results1516.csv')"
   ]
  },
  {
   "cell_type": "code",
   "execution_count": 3,
   "metadata": {
    "collapsed": false,
    "scrolled": true
   },
   "outputs": [],
   "source": [
    "#AverageScore\n",
    "Ave_score = pd.merge(M_df,S_df,on=\"Full name\")\n",
    "Ave_score[\"Ave_score\"] = Ave_score.apply(lambda x: (x[\"M_score\"] + x [\"S_score\"] )/2, axis=1)\n",
    "#Ave_score"
   ]
  },
  {
   "cell_type": "code",
   "execution_count": 4,
   "metadata": {
    "collapsed": false
   },
   "outputs": [],
   "source": [
    "#Merge with ScoreTable\n",
    "Event_df_merge = pd.merge(Event_df,Ave_score,on=\"Full name\")\n",
    "Event_df_merge =Event_df_merge[[\"Full name\",\"Ave_score\"]].drop_duplicates(['Full name', 'Ave_score'])\n",
    "Event_df_merge = Event_df_merge.sort_values(by=[\"Full name\"], ascending=True).reset_index( drop = True )\n",
    "Event_df_merge = Event_df_merge.set_index(\"Full name\")\n",
    "#Event_df_merge"
   ]
  },
  {
   "cell_type": "code",
   "execution_count": 5,
   "metadata": {
    "collapsed": true
   },
   "outputs": [],
   "source": [
    "#Counting the number of clicks on login schreen of a specific cource\n",
    "Clicks = Event_df[Event_df[\"Event context\"].str.contains(\"Course: BAMS1001: Foundations in Health and Disease\")&Event_df[\"Event name\"].str.contains(\"Course viewed\")]\n",
    "Clicks = Clicks[\"Event context\"].groupby(Clicks[\"Full name\"])\n",
    "Event_df_merge[\"Clicks\"] = Clicks.count()"
   ]
  },
  {
   "cell_type": "code",
   "execution_count": 6,
   "metadata": {
    "collapsed": true
   },
   "outputs": [],
   "source": [
    "#Export into Excel File in order to see a whole data \n",
    "writer = pd.ExcelWriter('Clicks.xlsx')\n",
    "Event_df_merge.to_excel(writer,'Sheet1')\n",
    "#writer.save()"
   ]
  },
  {
   "cell_type": "code",
   "execution_count": 7,
   "metadata": {
    "collapsed": false
   },
   "outputs": [
    {
     "data": {
      "text/plain": [
       "(array([  1.,   0.,   1.,   2.,   9.,   8.,  16.,  14.,   9.,   4.]),\n",
       " array([ 23.165 ,  30.2485,  37.332 ,  44.4155,  51.499 ,  58.5825,\n",
       "         65.666 ,  72.7495,  79.833 ,  86.9165,  94.    ]),\n",
       " <a list of 10 Patch objects>)"
      ]
     },
     "execution_count": 7,
     "metadata": {},
     "output_type": "execute_result"
    },
    {
     "data": {
      "image/png": "[encoded data removed]",
      "text/plain": [
       "<matplotlib.figure.Figure at 0x10c1ef860>"
      ]
     },
     "metadata": {},
     "output_type": "display_data"
    }
   ],
   "source": [
    "#Histgram to see average socre and clicks\n",
    "plt.hist(list(Event_df_merge[\"Ave_score\"]))"
   ]
  },
  {
   "cell_type": "code",
   "execution_count": 8,
   "metadata": {
    "collapsed": false
   },
   "outputs": [
    {
     "data": {
      "text/plain": [
       "(array([  6.,   9.,  12.,  14.,  10.,   4.,   5.,   1.,   2.,   1.]),\n",
       " array([ 103.,  155.,  207.,  259.,  311.,  363.,  415.,  467.,  519.,\n",
       "         571.,  623.]),\n",
       " <a list of 10 Patch objects>)"
      ]
     },
     "execution_count": 8,
     "metadata": {},
     "output_type": "execute_result"
    },
    {
     "data": {
      "image/png": "[encoded data removed]",
      "text/plain": [
       "<matplotlib.figure.Figure at 0x11d3f29e8>"
      ]
     },
     "metadata": {},
     "output_type": "display_data"
    }
   ],
   "source": [
    "plt.hist(list(Event_df_merge[\"Clicks\"]))\n",
    "\n",
    "#Event_df_merge\n",
    "#list(Event_df_merge[\"Clicks\"])\n",
    "#Event_df_merge.plot"
   ]
  },
  {
   "cell_type": "code",
   "execution_count": 9,
   "metadata": {
    "collapsed": false
   },
   "outputs": [
    {
     "name": "stdout",
     "output_type": "stream",
     "text": [
      "[ 0.01816639]\n",
      "63.944759682\n",
      "0.025398959584\n",
      "[ 0.15937051]\n"
     ]
    },
    {
     "data": {
      "image/png": "[encoded data removed]",
      "text/plain": [
       "<matplotlib.figure.Figure at 0x111a3b4e0>"
      ]
     },
     "metadata": {},
     "output_type": "display_data"
    }
   ],
   "source": [
    "#Single linear regression\n",
    "# sklearn.linear_model.LinearRegression class\n",
    "from sklearn import linear_model\n",
    "clf = linear_model.LinearRegression()\n",
    " \n",
    "# Explanatory variable: \"Clicks\" \n",
    "X = Event_df_merge.loc[:, ['Clicks']].as_matrix()\n",
    " \n",
    "# Objectitve variable: \"Ave_score\" \n",
    "Y = Event_df_merge['Ave_score'].as_matrix()\n",
    " \n",
    "# Create predicitive model\n",
    "clf.fit(X, Y)\n",
    " \n",
    "# Regression coefficient \n",
    "print(clf.coef_)\n",
    " \n",
    "# Intercept\n",
    "print(clf.intercept_)\n",
    " \n",
    "# Coefficient of determination\n",
    "print(clf.score(X, Y))\n",
    "\n",
    "#Scatter plot（diagram）\n",
    "plt.scatter(X, Y)\n",
    " \n",
    "#Regression Liner\n",
    "plt.plot(X, clf.predict(X))\n",
    "\n",
    "var = lambda item: sum([(i-sum(item)/len(item))**2 for i in item]) / len(item)\n",
    "cov = lambda item1, item2: sum([(i[0]-sum(item1)/len(item1)) * (i[1]-sum(item2)/len(item2)) for i in zip(item1, item2)]) / len(item1)\n",
    "r = lambda item1, item2: cov(item1,item2) / (var(item1)**0.5*var(item2)**0.5)\n",
    "print(r(X,Y))\n",
    "\n",
    "#scipy.stats.pearsonr(X, Y)"
   ]
  },
  {
   "cell_type": "code",
   "execution_count": 10,
   "metadata": {
    "collapsed": false
   },
   "outputs": [
    {
     "name": "stdout",
     "output_type": "stream",
     "text": [
      "t value: 10.1228408518\n",
      "p value:  9.29007672166e-15\n",
      "t value: 9.27857187695\n",
      "p value:  2.96530244221e-11\n"
     ]
    }
   ],
   "source": [
    "#See whether there is significant differences b/w access frequencies of studnets who took more than average socores and less than \n",
    "#T-test  (not equl variance)\n",
    "import scipy as sp\n",
    "from scipy import stats\n",
    "\n",
    "low = Event_df_merge[(Event_df_merge['Clicks']  < 300)].drop([\"Ave_score\"], axis=1)\n",
    "high = Event_df_merge[(Event_df_merge['Clicks']  > 300)].drop([\"Ave_score\"], axis=1)\n",
    "\n",
    "low = list(low[\"Clicks\"])\n",
    "high =  list(high[\"Clicks\"])\n",
    "\n",
    "\n",
    "#Student's t-test \n",
    "t,p  = stats.ttest_ind(high, low)\n",
    "#Welch's t test\n",
    "wt,wp = stats.ttest_ind(high, low, equal_var = False)\n",
    "\n",
    "#Student's t-test  outoput\n",
    "print( \"t value: %(t)s\" %locals() )\n",
    "print( \"p value:  %(p)s\" %locals() )\n",
    "\n",
    "#Welch's t test output \n",
    "print( \"t value: %(wt)s\" %locals() )\n",
    "print( \"p value:  %(wp)s\" %locals() )"
   ]
  },
  {
   "cell_type": "code",
   "execution_count": null,
   "metadata": {
    "collapsed": true
   },
   "outputs": [],
   "source": []
  }
 ],
 "metadata": {
  "kernelspec": {
   "display_name": "Python 3",
   "language": "python",
   "name": "python3"
  },
  "language_info": {
   "codemirror_mode": {
    "name": "ipython",
    "version": 3
   },
   "file_extension": ".py",
   "mimetype": "text/x-python",
   "name": "python",
   "nbconvert_exporter": "python",
   "pygments_lexer": "ipython3",
   "version": "3.5.3"
  }
 },
 "nbformat": 4,
 "nbformat_minor": 0
}
