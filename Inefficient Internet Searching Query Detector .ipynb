{
 "cells": [
  {
   "cell_type": "code",
   "execution_count": 1,
   "metadata": {
    "collapsed": false
   },
   "outputs": [
    {
     "data": {
      "text/plain": [
       "True"
      ]
     },
     "execution_count": 1,
     "metadata": {},
     "output_type": "execute_result"
    }
   ],
   "source": [
    "# Make sure of file path\n",
    "import os\n",
    "os.path.exists('../../Library/Application Support/Google/Chrome/Default/History')"
   ]
  },
  {
   "cell_type": "code",
   "execution_count": 2,
   "metadata": {
    "collapsed": false
   },
   "outputs": [],
   "source": [
    "#Copy History file\n",
    "import shutil\n",
    "History_temp = shutil.copyfile('../../Library/Application Support/Google/Chrome/Default/History', \"../../History_temp\")"
   ]
  },
  {
   "cell_type": "code",
   "execution_count": 3,
   "metadata": {
    "collapsed": false
   },
   "outputs": [],
   "source": [
    "# Delete History file\n",
    "#os.remove(History_temp)"
   ]
  },
  {
   "cell_type": "code",
   "execution_count": 4,
   "metadata": {
    "collapsed": false
   },
   "outputs": [],
   "source": [
    "#Connect sqlite3\n",
    "import sqlite3\n",
    "import pandas as pd\n",
    "c = sqlite3.connect(History_temp)\n",
    "cursor = c.cursor()\n",
    "\n",
    "select1_statement =\"select kst.url_id,kst.lower_term,u.url,u.title, v.visit_time from (keyword_search_terms kst inner join urls as u on kst.url_id = u.id) inner join visits v on u.id = v.url\"\n",
    "cursor.execute(select1_statement)\n",
    "key_table = cursor.fetchall()\n",
    "\n",
    "key_table_df = pd.DataFrame(key_table)\n",
    "key_table_df = key_table_df.drop_duplicates([0,1])"
   ]
  },
  {
   "cell_type": "code",
   "execution_count": 5,
   "metadata": {
    "collapsed": false
   },
   "outputs": [],
   "source": [
    "import difflib\n",
    "df = key_table_df[[0,1]]\n",
    "df = df.reset_index( drop = True )\n",
    "\n",
    "#For confirmation \n",
    "#df"
   ]
  },
  {
   "cell_type": "code",
   "execution_count": 6,
   "metadata": {
    "collapsed": false
   },
   "outputs": [],
   "source": [
    "#Similarity_Calculation \n",
    "similarity = pd.DataFrame(index =range(len(df)),columns=['similarity'])\n",
    "for i in range ((len(df))-1):\n",
    "    df_e=difflib.SequenceMatcher(None, df[1][i],df[1][i+1]).ratio()*100\n",
    "    #For confirmation\n",
    "#print ('{0}:{1}'.format(i, df_e))\n",
    "    similarity.ix[i+1] = round(df_e)\n",
    "#similarity"
   ]
  },
  {
   "cell_type": "code",
   "execution_count": 7,
   "metadata": {
    "collapsed": false
   },
   "outputs": [],
   "source": [
    "similarity_df = pd.concat([df,similarity],axis=1)\n",
    "similarity_recent = similarity_df.tail(50)"
   ]
  },
  {
   "cell_type": "code",
   "execution_count": null,
   "metadata": {
    "collapsed": false
   },
   "outputs": [],
   "source": [
    "#Dictating recent browser search query \n",
    "import matplotlib.pyplot as plt\n",
    "similarity_recent.plot(y=['similarity'], figsize=(16,4), alpha=0.5)\n",
    "plt.show()"
   ]
  },
  {
   "cell_type": "code",
   "execution_count": null,
   "metadata": {
    "collapsed": true
   },
   "outputs": [],
   "source": []
  }
 ],
 "metadata": {
  "kernelspec": {
   "display_name": "Python 3",
   "language": "python",
   "name": "python3"
  },
  "language_info": {
   "codemirror_mode": {
    "name": "ipython",
    "version": 3
   },
   "file_extension": ".py",
   "mimetype": "text/x-python",
   "name": "python",
   "nbconvert_exporter": "python",
   "pygments_lexer": "ipython3",
   "version": "3.5.3"
  }
 },
 "nbformat": 4,
 "nbformat_minor": 0
}
