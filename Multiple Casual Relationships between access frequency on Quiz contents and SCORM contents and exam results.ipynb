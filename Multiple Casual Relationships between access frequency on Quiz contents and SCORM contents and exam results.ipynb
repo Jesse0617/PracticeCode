{
 "cells": [
  {
   "cell_type": "code",
   "execution_count": 8,
   "metadata": {
    "collapsed": false
   },
   "outputs": [],
   "source": [
    "import numpy as np\n",
    "import pandas as pd\n",
    "from pandas import Series,DataFrame\n",
    "import matplotlib.pyplot as plt\n",
    "%matplotlib inline \n",
    "Event_df = pd.read_csv('logs1516.csv')\n",
    "Event_df.sort_values(by=[\"Time\"], ascending=True)\n",
    "M_df = pd.read_csv('M_results1516.csv')\n",
    "S_df = pd.read_csv('S_results1516.csv')"
   ]
  },
  {
   "cell_type": "code",
   "execution_count": 9,
   "metadata": {
    "collapsed": false
   },
   "outputs": [],
   "source": [
    "#AverageScore\n",
    "Ave_score = pd.merge(M_df,S_df,on=\"Full name\")\n",
    "Ave_score[\"Ave_score\"]= Ave_score.apply(lambda x: (x[\"M_score\"] + x [\"S_score\"] )/2, axis=1).astype('int') "
   ]
  },
  {
   "cell_type": "code",
   "execution_count": 10,
   "metadata": {
    "collapsed": false
   },
   "outputs": [],
   "source": [
    "#Merge with ScoreTable\n",
    "Event_df_merge = pd.merge(Event_df,Ave_score,on=\"Full name\")\n",
    "Event_df_merge =Event_df_merge[[\"Full name\",\"Ave_score\"]].drop_duplicates(['Full name', 'Ave_score'])\n",
    "Event_df_merge = Event_df_merge.sort_values(by=[\"Full name\"], ascending=True).reset_index( drop = True )\n",
    "Event_df_merge = Event_df_merge.set_index(\"Full name\")\n",
    "#Event_df_merge"
   ]
  },
  {
   "cell_type": "code",
   "execution_count": 11,
   "metadata": {
    "collapsed": false
   },
   "outputs": [],
   "source": [
    "#Count Clikcs on \"R\" contents\n",
    "Clicks = Event_df[Event_df[\"Event context\"].str.contains(\"_R\")&Event_df[\"Event name\"].str.contains(\"Course module viewed\")]\n",
    "Clicks = Clicks[\"Event context\"].groupby(Clicks[\"Full name\"])\n",
    "Event_df_merge[\"R_Clicks\"] = Clicks.count()\n",
    "#Event_df_merge"
   ]
  },
  {
   "cell_type": "code",
   "execution_count": 12,
   "metadata": {
    "collapsed": false
   },
   "outputs": [],
   "source": [
    "#Count Clikcs on \"L\" contents\n",
    "Clicks = Event_df[Event_df[\"Event context\"].str.contains(\"_L\")&Event_df[\"Event name\"].str.contains(\"Sco launched\")]\n",
    "Clicks = Clicks[\"Event context\"].groupby(Clicks[\"Full name\"])\n",
    "Event_df_merge[\"L_Clicks\"] = Clicks.count()\n",
    "#Event_df_merge"
   ]
  },
  {
   "cell_type": "code",
   "execution_count": 13,
   "metadata": {
    "collapsed": false
   },
   "outputs": [],
   "source": [
    "#Count Clikcs on \"S\" contents\n",
    "Clicks = Event_df[Event_df[\"Event context\"].str.contains(\"_S\")&Event_df[\"Event name\"].str.contains(\"Course module viewed\")]\n",
    "Clicks = Clicks[\"Event context\"].groupby(Clicks[\"Full name\"])\n",
    "Event_df_merge[\"S_Clicks\"] = Clicks.count()\n",
    "Event_df_merge = Event_df_merge[[\"Ave_score\",\"R_Clicks\",\"L_Clicks\",\"S_Clicks\"]] .reset_index().fillna(0)\n",
    "Event_df_merge=Event_df_merge.drop(\"Full name\", axis=1)\n",
    "#Event_df_merge\n",
    "Event_df_merge.to_csv('PCA.csv')"
   ]
  },
  {
   "cell_type": "code",
   "execution_count": 219,
   "metadata": {
    "collapsed": false
   },
   "outputs": [
    {
     "name": "stdout",
     "output_type": "stream",
     "text": [
      "   Coefficients      Name\n",
      "0     -0.107985  R_Clicks\n",
      "1      0.007260  L_Clicks\n",
      "2      0.229464  S_Clicks\n",
      "62.2043398848\n"
     ]
    }
   ],
   "source": [
    "#Caluculating multiple regression\n",
    "from sklearn import linear_model\n",
    "clf = linear_model.LinearRegression()\n",
    "\n",
    "# Explanatory variable: \"R_Clicks\" ,\"L_Clicks\" , and \"S_Clicks\"  except \"Ave_score\"\n",
    "Event = Event_df_merge.drop(\"Ave_score\", axis=1)\n",
    "X = Event.as_matrix()\n",
    "\n",
    "# Objectitve variable: \"Ave_score\" \n",
    "Y = Event_df_merge['Ave_score'].as_matrix()\n",
    "\n",
    "# Create predicitive model\n",
    "clf.fit(X, Y)\n",
    " \n",
    "#  Regression coefficient \n",
    "print(pd.DataFrame({\"Name\":Event.columns,\n",
    "                    \"Coefficients\":clf.coef_}).sort_values(by='Coefficients') )\n",
    " \n",
    "# Intercept\n",
    "print(clf.intercept_)"
   ]
  }
 ],
 "metadata": {
  "kernelspec": {
   "display_name": "Python 3",
   "language": "python",
   "name": "python3"
  },
  "language_info": {
   "codemirror_mode": {
    "name": "ipython",
    "version": 3
   },
   "file_extension": ".py",
   "mimetype": "text/x-python",
   "name": "python",
   "nbconvert_exporter": "python",
   "pygments_lexer": "ipython3",
   "version": "3.5.3"
  }
 },
 "nbformat": 4,
 "nbformat_minor": 0
}
